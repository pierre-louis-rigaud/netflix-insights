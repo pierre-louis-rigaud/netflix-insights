{
 "cells": [
  {
   "cell_type": "markdown",
   "metadata": {},
   "source": [
    "# Netflix Data Analysis"
   ]
  },
  {
   "cell_type": "markdown",
   "metadata": {},
   "source": [
    "# Sommaire\n",
    "* lorem ipsum\n",
    "\n",
    "* lorem ipsum\n",
    "\n",
    "* lorem ipsum\n"
   ]
  },
  {
   "cell_type": "markdown",
   "metadata": {},
   "source": [
    "# Intro"
   ]
  },
  {
   "cell_type": "code",
   "execution_count": 45,
   "metadata": {},
   "outputs": [
    {
     "name": "stdout",
     "output_type": "stream",
     "text": [
      "5 premières observations :\n",
      "  show_id     type                  title         director  \\\n",
      "0      s1    Movie   Dick Johnson Is Dead  Kirsten Johnson   \n",
      "1      s2  TV Show          Blood & Water              NaN   \n",
      "2      s3  TV Show              Ganglands  Julien Leclercq   \n",
      "3      s4  TV Show  Jailbirds New Orleans              NaN   \n",
      "4      s5  TV Show           Kota Factory              NaN   \n",
      "\n",
      "                                                cast        country  \\\n",
      "0                                                NaN  United States   \n",
      "1  Ama Qamata, Khosi Ngema, Gail Mabalane, Thaban...   South Africa   \n",
      "2  Sami Bouajila, Tracy Gotoas, Samuel Jouy, Nabi...            NaN   \n",
      "3                                                NaN            NaN   \n",
      "4  Mayur More, Jitendra Kumar, Ranjan Raj, Alam K...          India   \n",
      "\n",
      "           date_added  release_year rating   duration  \\\n",
      "0  September 25, 2021          2020  PG-13     90 min   \n",
      "1  September 24, 2021          2021  TV-MA  2 Seasons   \n",
      "2  September 24, 2021          2021  TV-MA   1 Season   \n",
      "3  September 24, 2021          2021  TV-MA   1 Season   \n",
      "4  September 24, 2021          2021  TV-MA  2 Seasons   \n",
      "\n",
      "                                           listed_in  \\\n",
      "0                                      Documentaries   \n",
      "1    International TV Shows, TV Dramas, TV Mysteries   \n",
      "2  Crime TV Shows, International TV Shows, TV Act...   \n",
      "3                             Docuseries, Reality TV   \n",
      "4  International TV Shows, Romantic TV Shows, TV ...   \n",
      "\n",
      "                                         description  \n",
      "0  As her father nears the end of his life, filmm...  \n",
      "1  After crossing paths at a party, a Cape Town t...  \n",
      "2  To protect his family from a powerful drug lor...  \n",
      "3  Feuds, flirtations and toilet talk go down amo...  \n",
      "4  In a city of coaching centers known to train I...  \n",
      "\n",
      "5 dernières observations :\n",
      "     show_id     type        title         director  \\\n",
      "8802   s8803    Movie       Zodiac    David Fincher   \n",
      "8803   s8804  TV Show  Zombie Dumb              NaN   \n",
      "8804   s8805    Movie   Zombieland  Ruben Fleischer   \n",
      "8805   s8806    Movie         Zoom     Peter Hewitt   \n",
      "8806   s8807    Movie       Zubaan      Mozez Singh   \n",
      "\n",
      "                                                   cast        country  \\\n",
      "8802  Mark Ruffalo, Jake Gyllenhaal, Robert Downey J...  United States   \n",
      "8803                                                NaN            NaN   \n",
      "8804  Jesse Eisenberg, Woody Harrelson, Emma Stone, ...  United States   \n",
      "8805  Tim Allen, Courteney Cox, Chevy Chase, Kate Ma...  United States   \n",
      "8806  Vicky Kaushal, Sarah-Jane Dias, Raaghav Chanan...          India   \n",
      "\n",
      "             date_added  release_year rating   duration  \\\n",
      "8802  November 20, 2019          2007      R    158 min   \n",
      "8803       July 1, 2019          2018  TV-Y7  2 Seasons   \n",
      "8804   November 1, 2019          2009      R     88 min   \n",
      "8805   January 11, 2020          2006     PG     88 min   \n",
      "8806      March 2, 2019          2015  TV-14    111 min   \n",
      "\n",
      "                                           listed_in  \\\n",
      "8802                  Cult Movies, Dramas, Thrillers   \n",
      "8803          Kids' TV, Korean TV Shows, TV Comedies   \n",
      "8804                         Comedies, Horror Movies   \n",
      "8805              Children & Family Movies, Comedies   \n",
      "8806  Dramas, International Movies, Music & Musicals   \n",
      "\n",
      "                                            description  \n",
      "8802  A political cartoonist, a crime reporter and a...  \n",
      "8803  While living alone in a spooky town, a young g...  \n",
      "8804  Looking to survive in a world taken over by zo...  \n",
      "8805  Dragged from civilian life, a former superhero...  \n",
      "8806  A scrappy but poor boy worms his way into a ty...  \n"
     ]
    }
   ],
   "source": [
    "'''\n",
    "questions 3 & 4\n",
    "'''\n",
    "\n",
    "import pandas as pd\n",
    "import numpy as np\n",
    "import missingno as msno\n",
    "import re\n",
    "\n",
    "data = pd.read_csv('netflix_titles.csv')\n",
    "\n",
    "# Afficher les 5 premières observations\n",
    "print(\"5 premières observations :\")\n",
    "print(data.head())\n",
    "\n",
    "# Afficher les 5 dernières observations\n",
    "print(\"\\n5 dernières observations :\")\n",
    "print(data.tail())"
   ]
  },
  {
   "cell_type": "code",
   "execution_count": 10,
   "metadata": {},
   "outputs": [
    {
     "name": "stdout",
     "output_type": "stream",
     "text": [
      "<class 'pandas.core.frame.DataFrame'>\n",
      "RangeIndex: 8807 entries, 0 to 8806\n",
      "Data columns (total 12 columns):\n",
      " #   Column        Non-Null Count  Dtype \n",
      "---  ------        --------------  ----- \n",
      " 0   show_id       8807 non-null   object\n",
      " 1   type          8807 non-null   object\n",
      " 2   title         8807 non-null   object\n",
      " 3   director      6173 non-null   object\n",
      " 4   cast          7982 non-null   object\n",
      " 5   country       7976 non-null   object\n",
      " 6   date_added    8797 non-null   object\n",
      " 7   release_year  8807 non-null   int64 \n",
      " 8   rating        8803 non-null   object\n",
      " 9   duration      8804 non-null   object\n",
      " 10  listed_in     8807 non-null   object\n",
      " 11  description   8807 non-null   object\n",
      "dtypes: int64(1), object(11)\n",
      "memory usage: 825.8+ KB\n",
      "None\n"
     ]
    }
   ],
   "source": [
    "'''\n",
    "questions 5\n",
    "'''\n",
    "\n",
    "# Afficher les informations du DataFrame\n",
    "print(data.info())"
   ]
  },
  {
   "cell_type": "code",
   "execution_count": 13,
   "metadata": {},
   "outputs": [
    {
     "name": "stdout",
     "output_type": "stream",
     "text": [
      "Nombre de variable puis d'observation du DataFrame : (8807, 12)\n"
     ]
    }
   ],
   "source": [
    "'''\n",
    "questions 6\n",
    "'''\n",
    "\n",
    "# Afficher la dimensionnalité du DataFrame\n",
    "print(\"Nombre de variable puis d'observation du DataFrame :\", data.shape)"
   ]
  },
  {
   "cell_type": "code",
   "execution_count": 14,
   "metadata": {},
   "outputs": [
    {
     "name": "stdout",
     "output_type": "stream",
     "text": [
      "Colonnes du DataFrame : Index(['show_id', 'type', 'title', 'director', 'cast', 'country', 'date_added',\n",
      "       'release_year', 'rating', 'duration', 'listed_in', 'description'],\n",
      "      dtype='object')\n"
     ]
    }
   ],
   "source": [
    "'''\n",
    "questions 7\n",
    "'''\n",
    "\n",
    "# Afficher les noms des colonnes\n",
    "print(\"Colonnes du DataFrame :\", data.columns)"
   ]
  },
  {
   "cell_type": "code",
   "execution_count": 15,
   "metadata": {},
   "outputs": [
    {
     "name": "stdout",
     "output_type": "stream",
     "text": [
      "Types des colonnes du DataFrame :\n",
      "show_id         object\n",
      "type            object\n",
      "title           object\n",
      "director        object\n",
      "cast            object\n",
      "country         object\n",
      "date_added      object\n",
      "release_year     int64\n",
      "rating          object\n",
      "duration        object\n",
      "listed_in       object\n",
      "description     object\n",
      "dtype: object\n"
     ]
    }
   ],
   "source": [
    "'''\n",
    "questions 8\n",
    "'''\n",
    "\n",
    "# Afficher les types des différentes colonnes\n",
    "print(\"Types des colonnes du DataFrame :\")\n",
    "print(data.dtypes)"
   ]
  },
  {
   "cell_type": "code",
   "execution_count": 16,
   "metadata": {},
   "outputs": [
    {
     "name": "stdout",
     "output_type": "stream",
     "text": [
      "Données manquantes par colonne :\n",
      "show_id            0\n",
      "type               0\n",
      "title              0\n",
      "director        2634\n",
      "cast             825\n",
      "country          831\n",
      "date_added        10\n",
      "release_year       0\n",
      "rating             4\n",
      "duration           3\n",
      "listed_in          0\n",
      "description        0\n",
      "dtype: int64\n",
      "\n",
      "Proportion de données manquantes en pourcentage :\n",
      "show_id          0.000000\n",
      "type             0.000000\n",
      "title            0.000000\n",
      "director        29.908028\n",
      "cast             9.367549\n",
      "country          9.435676\n",
      "date_added       0.113546\n",
      "release_year     0.000000\n",
      "rating           0.045418\n",
      "duration         0.034064\n",
      "listed_in        0.000000\n",
      "description      0.000000\n",
      "dtype: float64\n"
     ]
    }
   ],
   "source": [
    "'''\n",
    "questions 9\n",
    "'''\n",
    "\n",
    "# Vérifier les données manquantes\n",
    "donnees_manquantes = data.isna().sum()\n",
    "\n",
    "# Calculer la proportion en pourcentage\n",
    "proportion_manquante = (donnees_manquantes / len(data)) * 100\n",
    "\n",
    "# Afficher les données manquantes et la proportion en pourcentage\n",
    "print(\"Données manquantes par colonne :\")\n",
    "print(donnees_manquantes)\n",
    "print(\"\\nProportion de données manquantes en pourcentage :\")\n",
    "print(proportion_manquante)"
   ]
  },
  {
   "cell_type": "code",
   "execution_count": 26,
   "metadata": {},
   "outputs": [
    {
     "data": {
      "text/plain": [
       "<Axes: >"
      ]
     },
     "execution_count": 26,
     "metadata": {},
     "output_type": "execute_result"
    },
    {
     "data": {
      "image/png": "[encoded data removed]",
      "text/plain": [
       "<Figure size 2500x1000 with 2 Axes>"
      ]
     },
     "metadata": {},
     "output_type": "display_data"
    }
   ],
   "source": [
    "'''\n",
    "questions 10\n",
    "'''\n",
    "\n",
    "# Afficher un graphique représentatif des données manquantes\n",
    "msno.matrix(data)"
   ]
  },
  {
   "cell_type": "code",
   "execution_count": 25,
   "metadata": {},
   "outputs": [
    {
     "name": "stdout",
     "output_type": "stream",
     "text": [
      "Collecting missingno\n",
      "  Using cached missingno-0.5.2-py3-none-any.whl.metadata (639 bytes)\n",
      "Requirement already satisfied: numpy in c:\\users\\xilan\\anaconda3\\lib\\site-packages (from missingno) (1.26.4)\n",
      "Requirement already satisfied: matplotlib in c:\\users\\xilan\\anaconda3\\lib\\site-packages (from missingno) (3.8.0)\n",
      "Requirement already satisfied: scipy in c:\\users\\xilan\\anaconda3\\lib\\site-packages (from missingno) (1.11.4)\n",
      "Requirement already satisfied: seaborn in c:\\users\\xilan\\anaconda3\\lib\\site-packages (from missingno) (0.12.2)\n",
      "Requirement already satisfied: contourpy>=1.0.1 in c:\\users\\xilan\\anaconda3\\lib\\site-packages (from matplotlib->missingno) (1.2.0)\n",
      "Requirement already satisfied: cycler>=0.10 in c:\\users\\xilan\\anaconda3\\lib\\site-packages (from matplotlib->missingno) (0.11.0)\n",
      "Requirement already satisfied: fonttools>=4.22.0 in c:\\users\\xilan\\anaconda3\\lib\\site-packages (from matplotlib->missingno) (4.25.0)\n",
      "Requirement already satisfied: kiwisolver>=1.0.1 in c:\\users\\xilan\\anaconda3\\lib\\site-packages (from matplotlib->missingno) (1.4.4)\n",
      "Requirement already satisfied: packaging>=20.0 in c:\\users\\xilan\\anaconda3\\lib\\site-packages (from matplotlib->missingno) (23.1)\n",
      "Requirement already satisfied: pillow>=6.2.0 in c:\\users\\xilan\\anaconda3\\lib\\site-packages (from matplotlib->missingno) (10.2.0)\n",
      "Requirement already satisfied: pyparsing>=2.3.1 in c:\\users\\xilan\\anaconda3\\lib\\site-packages (from matplotlib->missingno) (3.0.9)\n",
      "Requirement already satisfied: python-dateutil>=2.7 in c:\\users\\xilan\\anaconda3\\lib\\site-packages (from matplotlib->missingno) (2.8.2)\n",
      "Requirement already satisfied: pandas>=0.25 in c:\\users\\xilan\\anaconda3\\lib\\site-packages (from seaborn->missingno) (2.1.4)\n",
      "Requirement already satisfied: pytz>=2020.1 in c:\\users\\xilan\\anaconda3\\lib\\site-packages (from pandas>=0.25->seaborn->missingno) (2023.3.post1)\n",
      "Requirement already satisfied: tzdata>=2022.1 in c:\\users\\xilan\\anaconda3\\lib\\site-packages (from pandas>=0.25->seaborn->missingno) (2023.3)\n",
      "Requirement already satisfied: six>=1.5 in c:\\users\\xilan\\anaconda3\\lib\\site-packages (from python-dateutil>=2.7->matplotlib->missingno) (1.16.0)\n",
      "Using cached missingno-0.5.2-py3-none-any.whl (8.7 kB)\n",
      "Installing collected packages: missingno\n",
      "Successfully installed missingno-0.5.2\n"
     ]
    }
   ],
   "source": [
    "!pip install missingno"
   ]
  },
  {
   "cell_type": "code",
   "execution_count": 22,
   "metadata": {},
   "outputs": [
    {
     "name": "stdout",
     "output_type": "stream",
     "text": [
      "Observation aléatoire du DataFrame :\n",
      "    show_id     type                  title director  \\\n",
      "682    s683  TV Show  Why Are You Like This      NaN   \n",
      "\n",
      "                                        cast    country     date_added  \\\n",
      "682  Naomi Higgins, Olivia Junkeer, Wil King  Australia  June 19, 2021   \n",
      "\n",
      "     release_year rating  duration                            listed_in  \\\n",
      "682          2021  TV-MA  1 Season  International TV Shows, TV Comedies   \n",
      "\n",
      "                                           description  \n",
      "682  Three best friends negotiate work, fun, identi...  \n"
     ]
    }
   ],
   "source": [
    "'''\n",
    "questions 11\n",
    "'''\n",
    "\n",
    "# Afficher une observation aléatoire\n",
    "observation_aleatoire = data.sample()\n",
    "print(\"Observation aléatoire du DataFrame :\")\n",
    "print(observation_aleatoire)"
   ]
  },
  {
   "cell_type": "code",
   "execution_count": 24,
   "metadata": {},
   "outputs": [
    {
     "name": "stdout",
     "output_type": "stream",
     "text": [
      "    show_id   type                title          director  \\\n",
      "329    s330  Movie  Catch Me If You Can  Steven Spielberg   \n",
      "\n",
      "                                                  cast                country  \\\n",
      "329  Leonardo DiCaprio, Tom Hanks, Christopher Walk...  United States, Canada   \n",
      "\n",
      "         date_added  release_year rating duration listed_in  \\\n",
      "329  August 1, 2021          2002  PG-13  142 min    Dramas   \n",
      "\n",
      "                                           description  \n",
      "329  An FBI agent makes it his mission to put cunni...  \n"
     ]
    }
   ],
   "source": [
    "'''\n",
    "questions 12\n",
    "'''\n",
    "\n",
    "# Filtrer les informations pour l'oeuvre \"Catch Me If You Can\"\n",
    "catch_me_info = data[data['title'] == 'Catch Me If You Can']\n",
    "\n",
    "# Afficher toutes les informations de l'oeuvre \"Catch Me If You Can\"\n",
    "print(catch_me_info)"
   ]
  },
  {
   "cell_type": "code",
   "execution_count": 33,
   "metadata": {},
   "outputs": [
    {
     "name": "stdout",
     "output_type": "stream",
     "text": [
      "Le film le plus récent dans le dataset est : Blood Brothers: Malcolm X & Muhammad Ali\n"
     ]
    }
   ],
   "source": [
    "'''\n",
    "questions 13\n",
    "'''\n",
    "\n",
    "# Trier le DataFrame par année de sortie et par date d'ajout\n",
    "data_sorted = data.sort_values(by=['release_year', 'date_added'], ascending=False)\n",
    "\n",
    "# Sélectionner le nom du film le plus récent (premier élément après le tri)\n",
    "nom_film_plus_recent = data_sorted.iloc[0]['title']\n",
    "\n",
    "# Afficher le nom du film le plus récent\n",
    "print(\"Le film le plus récent dans le dataset est :\", nom_film_plus_recent)"
   ]
  },
  {
   "cell_type": "code",
   "execution_count": 35,
   "metadata": {},
   "outputs": [
    {
     "name": "stdout",
     "output_type": "stream",
     "text": [
      "La série TV la plus récente dans le dataset est : Into the Night\n"
     ]
    }
   ],
   "source": [
    "'''\n",
    "questions 14\n",
    "'''\n",
    "\n",
    "# Filtrer les entrées pour ne considérer que les séries TV\n",
    "series_tv = data[data['type'] == 'TV Show']\n",
    "\n",
    "# Trier le DataFrame des séries TV par année de sortie et par date d'ajout\n",
    "series_tv_sorted = series_tv.sort_values(by=['release_year', 'date_added'], ascending=False)\n",
    "\n",
    "# Sélectionner le nom de la série TV la plus récente (premier élément après le tri)\n",
    "nom_serie_plus_recente = series_tv_sorted.iloc[0]['title']\n",
    "\n",
    "# Afficher le nom de la série TV la plus récente\n",
    "print(\"La série TV la plus récente dans le dataset est :\", nom_serie_plus_recente)"
   ]
  },
  {
   "cell_type": "code",
   "execution_count": 43,
   "metadata": {},
   "outputs": [
    {
     "name": "stdout",
     "output_type": "stream",
     "text": [
      "Type de la colonne 'date_added' après conversion : datetime64[ns]\n"
     ]
    }
   ],
   "source": [
    "'''\n",
    "questions 15\n",
    "'''\n",
    "\n",
    "# Remplacer les valeurs manquantes par une valeur par défaut (par exemple, '1900-01-01')\n",
    "data['date_added'].fillna('1900-01-01', inplace=True)\n",
    "\n",
    "# Convertir la colonne 'date_added' en type DateTime en spécifiant le format si nécessaire\n",
    "data['date_added'] = pd.to_datetime(data['date_added'], errors='coerce', format='%Y-%m-%d')\n",
    "\n",
    "# Afficher le type de la colonne 'date_added' après conversion\n",
    "print(\"Type de la colonne 'date_added' après conversion :\", data['date_added'].dtype)"
   ]
  },
  {
   "cell_type": "code",
   "execution_count": 46,
   "metadata": {},
   "outputs": [
    {
     "name": "stdout",
     "output_type": "stream",
     "text": [
      "  show_id     type                  title         director  \\\n",
      "0      s1    Movie   Dick Johnson Is Dead  Kirsten Johnson   \n",
      "1      s2  TV Show          Blood & Water              NaN   \n",
      "2      s3  TV Show              Ganglands  Julien Leclercq   \n",
      "3      s4  TV Show  Jailbirds New Orleans              NaN   \n",
      "4      s5  TV Show           Kota Factory              NaN   \n",
      "\n",
      "                                                cast        country  \\\n",
      "0                                                NaN  United States   \n",
      "1  Ama Qamata, Khosi Ngema, Gail Mabalane, Thaban...   South Africa   \n",
      "2  Sami Bouajila, Tracy Gotoas, Samuel Jouy, Nabi...            NaN   \n",
      "3                                                NaN            NaN   \n",
      "4  Mayur More, Jitendra Kumar, Ranjan Raj, Alam K...          India   \n",
      "\n",
      "           date_added  release_year rating  duration  \\\n",
      "0  September 25, 2021          2020  PG-13      90.0   \n",
      "1  September 24, 2021          2021  TV-MA       NaN   \n",
      "2  September 24, 2021          2021  TV-MA       NaN   \n",
      "3  September 24, 2021          2021  TV-MA       NaN   \n",
      "4  September 24, 2021          2021  TV-MA       NaN   \n",
      "\n",
      "                                           listed_in  \\\n",
      "0                                      Documentaries   \n",
      "1    International TV Shows, TV Dramas, TV Mysteries   \n",
      "2  Crime TV Shows, International TV Shows, TV Act...   \n",
      "3                             Docuseries, Reality TV   \n",
      "4  International TV Shows, Romantic TV Shows, TV ...   \n",
      "\n",
      "                                         description  \n",
      "0  As her father nears the end of his life, filmm...  \n",
      "1  After crossing paths at a party, a Cape Town t...  \n",
      "2  To protect his family from a powerful drug lor...  \n",
      "3  Feuds, flirtations and toilet talk go down amo...  \n",
      "4  In a city of coaching centers known to train I...  \n"
     ]
    }
   ],
   "source": [
    "'''\n",
    "questions 16\n",
    "'''\n",
    "\n",
    "# Convertir toutes les valeurs de la colonne 'duration' en chaînes de caractères\n",
    "data['duration'] = data['duration'].astype(str)\n",
    "\n",
    "# Fonction pour extraire le nombre de minutes\n",
    "def extract_minutes(duration):\n",
    "    if 'min' in duration:\n",
    "        return int(re.search(r'\\d+', duration).group())\n",
    "    elif 'saison' in duration:\n",
    "        return int(re.search(r'\\d+', duration).group()) * 60 * 24 * 30  # Par exemple, 1 saison = 30 jours\n",
    "\n",
    "# Appliquer la fonction à la colonne 'duration' pour obtenir la durée en minutes\n",
    "data['duration'] = data['duration'].apply(extract_minutes)\n",
    "\n",
    "# Afficher les premières lignes pour vérifier le résultat\n",
    "print(data.head())"
   ]
  },
  {
   "cell_type": "code",
   "execution_count": 49,
   "metadata": {},
   "outputs": [
    {
     "name": "stdout",
     "output_type": "stream",
     "text": [
      "  show_id     type                  title         director  \\\n",
      "0      s1    Movie   Dick Johnson Is Dead  Kirsten Johnson   \n",
      "1      s2  TV Show          Blood & Water              NaN   \n",
      "2      s3  TV Show              Ganglands  Julien Leclercq   \n",
      "3      s4  TV Show  Jailbirds New Orleans              NaN   \n",
      "4      s5  TV Show           Kota Factory              NaN   \n",
      "\n",
      "                                                cast        country  \\\n",
      "0                                                NaN  United States   \n",
      "1  Ama Qamata, Khosi Ngema, Gail Mabalane, Thaban...   South Africa   \n",
      "2  Sami Bouajila, Tracy Gotoas, Samuel Jouy, Nabi...            NaN   \n",
      "3                                                NaN            NaN   \n",
      "4  Mayur More, Jitendra Kumar, Ranjan Raj, Alam K...          India   \n",
      "\n",
      "           date_added  release_year rating duration  \\\n",
      "0  September 25, 2021          2020  PG-13     None   \n",
      "1  September 24, 2021          2021  TV-MA     None   \n",
      "2  September 24, 2021          2021  TV-MA     None   \n",
      "3  September 24, 2021          2021  TV-MA     None   \n",
      "4  September 24, 2021          2021  TV-MA     None   \n",
      "\n",
      "                                           listed_in  \\\n",
      "0                                    [Documentaries]   \n",
      "1  [International TV Shows, TV Dramas, TV Mysteries]   \n",
      "2  [Crime TV Shows, International TV Shows, TV Ac...   \n",
      "3                           [Docuseries, Reality TV]   \n",
      "4  [International TV Shows, Romantic TV Shows, TV...   \n",
      "\n",
      "                                         description  \n",
      "0  As her father nears the end of his life, filmm...  \n",
      "1  After crossing paths at a party, a Cape Town t...  \n",
      "2  To protect his family from a powerful drug lor...  \n",
      "3  Feuds, flirtations and toilet talk go down amo...  \n",
      "4  In a city of coaching centers known to train I...  \n"
     ]
    }
   ],
   "source": [
    "'''\n",
    "question 17\n",
    "'''\n",
    "\n",
    "# Convertir toutes les valeurs de la colonne 'duration' en chaînes de caractères\n",
    "data['duration'] = data['duration'].astype(str)\n",
    "\n",
    "# Fonction pour extraire le nombre de minutes\n",
    "def extract_minutes(duration):\n",
    "    if 'saison' in duration:\n",
    "        return int(re.search(r'\\d+', duration).group())\n",
    "    elif 'min' in duration:\n",
    "        return int(re.search(r'\\d+', duration).group()) * 60 * 24 * 30  # Par exemple, 1 saison = 30 jours\n",
    "\n",
    "# Appliquer la fonction à la colonne 'duration' pour obtenir la durée en minutes\n",
    "data['duration'] = data['duration'].apply(extract_minutes)\n",
    "\n",
    "# Afficher les premières lignes pour vérifier le résultat\n",
    "print(data.head())"
   ]
  },
  {
   "cell_type": "code",
   "execution_count": 47,
   "metadata": {},
   "outputs": [
    {
     "name": "stdout",
     "output_type": "stream",
     "text": [
      "  show_id     type                  title         director  \\\n",
      "0      s1    Movie   Dick Johnson Is Dead  Kirsten Johnson   \n",
      "1      s2  TV Show          Blood & Water              NaN   \n",
      "2      s3  TV Show              Ganglands  Julien Leclercq   \n",
      "3      s4  TV Show  Jailbirds New Orleans              NaN   \n",
      "4      s5  TV Show           Kota Factory              NaN   \n",
      "\n",
      "                                                cast        country  \\\n",
      "0                                                NaN  United States   \n",
      "1  Ama Qamata, Khosi Ngema, Gail Mabalane, Thaban...   South Africa   \n",
      "2  Sami Bouajila, Tracy Gotoas, Samuel Jouy, Nabi...            NaN   \n",
      "3                                                NaN            NaN   \n",
      "4  Mayur More, Jitendra Kumar, Ranjan Raj, Alam K...          India   \n",
      "\n",
      "           date_added  release_year rating  duration  \\\n",
      "0  September 25, 2021          2020  PG-13      90.0   \n",
      "1  September 24, 2021          2021  TV-MA       NaN   \n",
      "2  September 24, 2021          2021  TV-MA       NaN   \n",
      "3  September 24, 2021          2021  TV-MA       NaN   \n",
      "4  September 24, 2021          2021  TV-MA       NaN   \n",
      "\n",
      "                                           listed_in  \\\n",
      "0                                    [Documentaries]   \n",
      "1  [International TV Shows, TV Dramas, TV Mysteries]   \n",
      "2  [Crime TV Shows, International TV Shows, TV Ac...   \n",
      "3                           [Docuseries, Reality TV]   \n",
      "4  [International TV Shows, Romantic TV Shows, TV...   \n",
      "\n",
      "                                         description  \n",
      "0  As her father nears the end of his life, filmm...  \n",
      "1  After crossing paths at a party, a Cape Town t...  \n",
      "2  To protect his family from a powerful drug lor...  \n",
      "3  Feuds, flirtations and toilet talk go down amo...  \n",
      "4  In a city of coaching centers known to train I...  \n"
     ]
    }
   ],
   "source": [
    "'''\n",
    "question 18\n",
    "'''\n",
    "\n",
    "\n",
    "# Convertir la chaîne de caractères en une liste de chaînes de caractères\n",
    "data['listed_in'] = data['listed_in'].str.split(',').apply(lambda x: [s.strip() for s in x])\n",
    "\n",
    "# Afficher les premières lignes pour vérifier le résultat\n",
    "print(data.head())"
   ]
  },
  {
   "cell_type": "code",
   "execution_count": 53,
   "metadata": {},
   "outputs": [
    {
     "ename": "AttributeError",
     "evalue": "'list' object has no attribute 'split'",
     "output_type": "error",
     "traceback": [
      "\u001b[1;31m---------------------------------------------------------------------------\u001b[0m",
      "\u001b[1;31mAttributeError\u001b[0m                            Traceback (most recent call last)",
      "Cell \u001b[1;32mIn[53], line 12\u001b[0m\n\u001b[0;32m      1\u001b[0m \u001b[38;5;124;03m'''\u001b[39;00m\n\u001b[0;32m      2\u001b[0m \u001b[38;5;124;03mquestion 19\u001b[39;00m\n\u001b[0;32m      3\u001b[0m \u001b[38;5;124;03m'''\u001b[39;00m\n\u001b[0;32m      5\u001b[0m \u001b[38;5;66;03m# # Afficher les valeurs uniques des variables : type, country, release_year, rating et listed_in\u001b[39;00m\n\u001b[0;32m      6\u001b[0m \u001b[38;5;66;03m# print(\"Valeurs uniques de la variable 'type' :\", data['type'].unique())\u001b[39;00m\n\u001b[0;32m      7\u001b[0m \u001b[38;5;66;03m# print(\"Valeurs uniques de la variable 'country' :\", data['country'].unique())\u001b[39;00m\n\u001b[1;32m   (...)\u001b[0m\n\u001b[0;32m     10\u001b[0m \n\u001b[0;32m     11\u001b[0m \u001b[38;5;66;03m# Convertir la colonne 'listed_in' en une liste de listes de chaînes de caractères\u001b[39;00m\n\u001b[1;32m---> 12\u001b[0m listed_in_values \u001b[38;5;241m=\u001b[39m [value\u001b[38;5;241m.\u001b[39msplit(\u001b[38;5;124m'\u001b[39m\u001b[38;5;124m, \u001b[39m\u001b[38;5;124m'\u001b[39m) \u001b[38;5;28;01mfor\u001b[39;00m value \u001b[38;5;129;01min\u001b[39;00m data[\u001b[38;5;124m'\u001b[39m\u001b[38;5;124mlisted_in\u001b[39m\u001b[38;5;124m'\u001b[39m]]\n\u001b[0;32m     14\u001b[0m \u001b[38;5;66;03m# Utiliser un ensemble pour obtenir les valeurs uniques\u001b[39;00m\n\u001b[0;32m     15\u001b[0m unique_listed_in \u001b[38;5;241m=\u001b[39m \u001b[38;5;28mset\u001b[39m([item \u001b[38;5;28;01mfor\u001b[39;00m sublist \u001b[38;5;129;01min\u001b[39;00m listed_in_values \u001b[38;5;28;01mfor\u001b[39;00m item \u001b[38;5;129;01min\u001b[39;00m sublist])\n",
      "Cell \u001b[1;32mIn[53], line 12\u001b[0m, in \u001b[0;36m<listcomp>\u001b[1;34m(.0)\u001b[0m\n\u001b[0;32m      1\u001b[0m \u001b[38;5;124;03m'''\u001b[39;00m\n\u001b[0;32m      2\u001b[0m \u001b[38;5;124;03mquestion 19\u001b[39;00m\n\u001b[0;32m      3\u001b[0m \u001b[38;5;124;03m'''\u001b[39;00m\n\u001b[0;32m      5\u001b[0m \u001b[38;5;66;03m# # Afficher les valeurs uniques des variables : type, country, release_year, rating et listed_in\u001b[39;00m\n\u001b[0;32m      6\u001b[0m \u001b[38;5;66;03m# print(\"Valeurs uniques de la variable 'type' :\", data['type'].unique())\u001b[39;00m\n\u001b[0;32m      7\u001b[0m \u001b[38;5;66;03m# print(\"Valeurs uniques de la variable 'country' :\", data['country'].unique())\u001b[39;00m\n\u001b[1;32m   (...)\u001b[0m\n\u001b[0;32m     10\u001b[0m \n\u001b[0;32m     11\u001b[0m \u001b[38;5;66;03m# Convertir la colonne 'listed_in' en une liste de listes de chaînes de caractères\u001b[39;00m\n\u001b[1;32m---> 12\u001b[0m listed_in_values \u001b[38;5;241m=\u001b[39m [value\u001b[38;5;241m.\u001b[39msplit(\u001b[38;5;124m'\u001b[39m\u001b[38;5;124m, \u001b[39m\u001b[38;5;124m'\u001b[39m) \u001b[38;5;28;01mfor\u001b[39;00m value \u001b[38;5;129;01min\u001b[39;00m data[\u001b[38;5;124m'\u001b[39m\u001b[38;5;124mlisted_in\u001b[39m\u001b[38;5;124m'\u001b[39m]]\n\u001b[0;32m     14\u001b[0m \u001b[38;5;66;03m# Utiliser un ensemble pour obtenir les valeurs uniques\u001b[39;00m\n\u001b[0;32m     15\u001b[0m unique_listed_in \u001b[38;5;241m=\u001b[39m \u001b[38;5;28mset\u001b[39m([item \u001b[38;5;28;01mfor\u001b[39;00m sublist \u001b[38;5;129;01min\u001b[39;00m listed_in_values \u001b[38;5;28;01mfor\u001b[39;00m item \u001b[38;5;129;01min\u001b[39;00m sublist])\n",
      "\u001b[1;31mAttributeError\u001b[0m: 'list' object has no attribute 'split'"
     ]
    }
   ],
   "source": [
    "'''\n",
    "question 19\n",
    "'''\n",
    "\n",
    "# Afficher les valeurs uniques des variables : type, country, release_year, rating et listed_in\n",
    "print(\"Valeurs uniques de la variable 'type' :\", data['type'].unique())\n",
    "print(\"Valeurs uniques de la variable 'country' :\", data['country'].unique())\n",
    "print(\"Valeurs uniques de la variable 'release_year' :\", data['release_year'].unique())\n",
    "print(\"Valeurs uniques de la variable 'rating' :\", data['rating'].unique())\n",
    "\n",
    "# Convertir la colonne 'listed_in' en une liste de listes de chaînes de caractères\n",
    "listed_in_values = [value.split(', ') for value in data['listed_in']]\n",
    "\n",
    "# Utiliser un ensemble pour obtenir les valeurs uniques\n",
    "unique_listed_in = set([item for sublist in listed_in_values for item in sublist])\n",
    "\n",
    "# Afficher les valeurs uniques de la variable 'listed_in'\n",
    "print(\"Valeurs uniques de la variable 'listed_in' :\", unique_listed_in)\n"
   ]
  },
  {
   "cell_type": "code",
   "execution_count": null,
   "metadata": {},
   "outputs": [],
   "source": []
  }
 ],
 "metadata": {
  "kernelspec": {
   "display_name": "base",
   "language": "python",
   "name": "python3"
  },
  "language_info": {
   "codemirror_mode": {
    "name": "ipython",
    "version": 3
   },
   "file_extension": ".py",
   "mimetype": "text/x-python",
   "name": "python",
   "nbconvert_exporter": "python",
   "pygments_lexer": "ipython3",
   "version": "3.11.7"
  }
 },
 "nbformat": 4,
 "nbformat_minor": 2
}
